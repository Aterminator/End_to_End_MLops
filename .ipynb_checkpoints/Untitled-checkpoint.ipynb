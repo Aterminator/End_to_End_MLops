{
 "cells": [
  {
   "cell_type": "code",
   "execution_count": 1,
   "id": "b734781e-f3e9-41d5-bdd9-f402a8db6572",
   "metadata": {},
   "outputs": [],
   "source": [
    "import pickle"
   ]
  },
  {
   "cell_type": "code",
   "execution_count": 2,
   "id": "7682802f-abf0-4af6-9324-612fa91dc764",
   "metadata": {},
   "outputs": [],
   "source": [
    "with open('models.pkl', 'rb') as file:\n",
    "    load_models = pickle.load(file)"
   ]
  },
  {
   "cell_type": "code",
   "execution_count": null,
   "id": "75c83a95-3620-4d65-a794-ed716f390a82",
   "metadata": {},
   "outputs": [],
   "source": []
  }
 ],
 "metadata": {
  "kernelspec": {
   "display_name": "Python 3 (ipykernel)",
   "language": "python",
   "name": "python3"
  },
  "language_info": {
   "codemirror_mode": {
    "name": "ipython",
    "version": 3
   },
   "file_extension": ".py",
   "mimetype": "text/x-python",
   "name": "python",
   "nbconvert_exporter": "python",
   "pygments_lexer": "ipython3",
   "version": "3.8.18"
  }
 },
 "nbformat": 4,
 "nbformat_minor": 5
}
