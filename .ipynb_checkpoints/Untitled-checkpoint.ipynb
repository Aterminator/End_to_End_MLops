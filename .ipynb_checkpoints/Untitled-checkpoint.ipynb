{
 "cells": [
  {
   "cell_type": "code",
   "execution_count": 1,
   "id": "2cfa6fd8",
   "metadata": {},
   "outputs": [],
   "source": [
    "import numpy as np\n",
    "import pandas as pd\n",
    "import pickle\n",
    "from sklearn.metrics import mean_squared_error, mean_absolute_percentage_error\n",
    "from sklearn.tree import DecisionTreeRegressor\n",
    "import xgboost\n",
    "import sys\n",
    "import warnings\n",
    "from itertools import cycle\n",
    "warnings.filterwarnings(\"ignore\")\n",
    "np.random.seed(40)\n",
    "import mlflow\n",
    "import mlflow.sklearn\n",
    "from mlflow.models import infer_signature"
   ]
  },
  {
   "cell_type": "code",
   "execution_count": 2,
   "id": "9608c598",
   "metadata": {},
   "outputs": [],
   "source": [
    "train = pd.read_csv('train_set.csv')\n",
    "test = pd.read_csv('test_set.csv')\n",
    "\n",
    "X_train = train.drop('log_total_users', axis=1)\n",
    "y_train = train.log_total_users\n",
    "\n",
    "X_test = test.drop('log_total_users', axis=1)\n",
    "y_test = test.log_total_users"
   ]
  },
  {
   "cell_type": "code",
   "execution_count": 3,
   "id": "3b36cded",
   "metadata": {},
   "outputs": [],
   "source": [
    "# Load preprocessed data\n",
    "with open('preprocess.pkl', 'rb') as file:\n",
    "    pre = pickle.load(file)"
   ]
  },
  {
   "cell_type": "code",
   "execution_count": 4,
   "id": "154b3a9d",
   "metadata": {},
   "outputs": [],
   "source": [
    "# Apply preprocessing\n",
    "X_train_tf = pre.transform(X_train)\n",
    "X_test_tf = pre.transform(X_test)"
   ]
  },
  {
   "cell_type": "code",
   "execution_count": 5,
   "id": "3e14b0e8",
   "metadata": {},
   "outputs": [],
   "source": [
    "def eval_metrics(actual, pred):\n",
    "    mse = mean_squared_error(actual, pred)\n",
    "    mape = mean_absolute_percentage_error(actual, pred)\n",
    "    return rmse, mae"
   ]
  },
  {
   "cell_type": "code",
   "execution_count": 6,
   "id": "88796ac0",
   "metadata": {},
   "outputs": [],
   "source": [
    "# Define the experiment name\n",
    "experiment_name = \"end-to-end-mlops\""
   ]
  },
  {
   "cell_type": "code",
   "execution_count": 7,
   "id": "11220d34",
   "metadata": {},
   "outputs": [],
   "source": [
    "# Check if the experiment exists\n",
    "experiment = mlflow.get_experiment_by_name(experiment_name)"
   ]
  },
  {
   "cell_type": "code",
   "execution_count": 8,
   "id": "0e90c9c5",
   "metadata": {},
   "outputs": [
    {
     "data": {
      "text/plain": [
       "<Experiment: artifact_location='file:///D:/praxis/Term%202/mlops/end%20to%20end%20mlops/end_to_end_mlops_project/End_to_End_MLops/mlruns/374554894569616120', creation_time=1704970263148, experiment_id='374554894569616120', last_update_time=1704970263148, lifecycle_stage='active', name='end-to-end-mlops', tags={}>"
      ]
     },
     "execution_count": 8,
     "metadata": {},
     "output_type": "execute_result"
    }
   ],
   "source": [
    "if experiment is None:\n",
    "    # If the experiment does not exist, create it\n",
    "    mlflow.create_experiment(experiment_name)\n",
    "\n",
    "# Set the experiment\n",
    "mlflow.set_experiment(experiment_name)"
   ]
  },
  {
   "cell_type": "code",
   "execution_count": null,
   "id": "aa7d08d2",
   "metadata": {},
   "outputs": [],
   "source": []
  },
  {
   "cell_type": "code",
   "execution_count": null,
   "id": "3250ac4b",
   "metadata": {},
   "outputs": [],
   "source": []
  },
  {
   "cell_type": "code",
   "execution_count": null,
   "id": "0cd831ed",
   "metadata": {},
   "outputs": [],
   "source": []
  },
  {
   "cell_type": "code",
   "execution_count": null,
   "id": "681cc0b6",
   "metadata": {},
   "outputs": [],
   "source": []
  },
  {
   "cell_type": "code",
   "execution_count": null,
   "id": "a2596495",
   "metadata": {},
   "outputs": [],
   "source": [
    "\n",
    "# Load Diabetes datasets\n",
    "diabetes = datasets.load_diabetes()\n",
    "X = diabetes.data\n",
    "y = diabetes.target\n",
    "\n",
    "# Create pandas DataFrame for sklearn ElasticNet linear_model\n",
    "Y = np.array([y]).transpose()\n",
    "d = np.concatenate((X, Y), axis=1)\n",
    "cols = diabetes.feature_names + [\"progression\"]\n",
    "data = pd.DataFrame(d, columns=cols)\n",
    "\n",
    "# Evaluate metrics\n",
    "def eval_metrics(actual, pred):\n",
    "    rmse = np.sqrt(mean_squared_error(actual, pred))\n",
    "    mae = mean_absolute_error(actual, pred)\n",
    "    r2 = r2_score(actual, pred)\n",
    "    return rmse, mae, r2\n",
    "\n",
    "# Split the data into training and test sets. (0.75, 0.25) split.\n",
    "train, test = train_test_split(data)\n",
    "\n",
    "# The predicted column is \"progression\" which is a quantitative measure of disease progression one year after baseline\n",
    "train_x = train.drop([\"progression\"], axis=1)\n",
    "test_x = test.drop([\"progression\"], axis=1)\n",
    "train_y = train[[\"progression\"]]\n",
    "test_y = test[[\"progression\"]]\n",
    "\n",
    "# Define the experiment name\n",
    "experiment_name = \"diaclf_experiment\"\n",
    "\n",
    "# Check if the experiment exists\n",
    "experiment = mlflow.get_experiment_by_name(experiment_name)\n",
    "\n",
    "if experiment is None:\n",
    "    # If the experiment does not exist, create it\n",
    "    mlflow.create_experiment(experiment_name)\n",
    "\n",
    "# Set the experiment\n",
    "mlflow.set_experiment(experiment_name)\n",
    "\n",
    "# Define the hyperparameters to try\n",
    "alpha_values = [0.01, 0.05]\n",
    "l1_ratio_values = [0.01, 0.05]\n",
    "\n",
    "for alpha in alpha_values:\n",
    "    for l1_ratio in l1_ratio_values:\n",
    "        with mlflow.start_run(run_name=f\"alpha_{alpha}_l1_ratio_{l1_ratio}\"):\n",
    "            # Run ElasticNet\n",
    "            lr = ElasticNet(alpha=alpha, l1_ratio=l1_ratio, random_state=42)\n",
    "            lr.fit(train_x, train_y)\n",
    "            predicted_qualities = lr.predict(test_x)\n",
    "            (rmse, mae, r2) = eval_metrics(test_y, predicted_qualities)\n",
    "\n",
    "            # Print out ElasticNet model metrics\n",
    "            print(f\"Elasticnet model (alpha={alpha:f}, l1_ratio={l1_ratio:f}):\")\n",
    "            print(f\"  RMSE: {rmse}\")\n",
    "            print(f\"  MAE: {mae}\")\n",
    "            print(f\"  R2: {r2}\")\n",
    "\n",
    "            # Infer model signature\n",
    "            predictions = lr.predict(train_x)\n",
    "            signature = infer_signature(train_x, predictions)\n",
    "\n",
    "            # Log mlflow attributes for mlflow UI\n",
    "            mlflow.log_param(\"alpha\", alpha)\n",
    "            mlflow.log_param(\"l1_ratio\", l1_ratio)\n",
    "            mlflow.log_metric(\"rmse\", rmse)\n",
    "            mlflow.log_metric(\"r2\", r2)\n",
    "            mlflow.log_metric(\"mae\", mae)\n",
    "            mlflow.sklearn.log_model(lr, \"model\", signature=signature)\n",
    "\n",
    "# end current run\n",
    "mlflow.end_run()\n",
    "\n",
    "# Get experiment ID\n",
    "experiment_id = mlflow.get_experiment_by_name(experiment_name).experiment_id\n",
    "\n",
    "# Search all runs in experiment_id\n",
    "runs = mlflow.search_runs(experiment_ids=experiment_id)\n",
    "\n",
    "# display runs dataframe\n",
    "runs\n"
   ]
  },
  {
   "cell_type": "code",
   "execution_count": null,
   "id": "dcb82f60",
   "metadata": {},
   "outputs": [],
   "source": []
  },
  {
   "cell_type": "code",
   "execution_count": null,
   "id": "21a1efad",
   "metadata": {},
   "outputs": [],
   "source": []
  },
  {
   "cell_type": "code",
   "execution_count": null,
   "id": "66273098",
   "metadata": {},
   "outputs": [],
   "source": []
  },
  {
   "cell_type": "code",
   "execution_count": null,
   "id": "ef5da94e",
   "metadata": {},
   "outputs": [],
   "source": []
  },
  {
   "cell_type": "code",
   "execution_count": null,
   "id": "e486022a",
   "metadata": {},
   "outputs": [],
   "source": []
  }
 ],
 "metadata": {
  "kernelspec": {
   "display_name": "Python 3 (ipykernel)",
   "language": "python",
   "name": "python3"
  },
  "language_info": {
   "codemirror_mode": {
    "name": "ipython",
    "version": 3
   },
   "file_extension": ".py",
   "mimetype": "text/x-python",
   "name": "python",
   "nbconvert_exporter": "python",
   "pygments_lexer": "ipython3",
   "version": "3.11.3"
  }
 },
 "nbformat": 4,
 "nbformat_minor": 5
}
